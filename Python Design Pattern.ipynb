{
 "cells": [
  {
   "cell_type": "markdown",
   "id": "5f7332ab",
   "metadata": {},
   "source": [
    "### 1. Composite Design Pattern"
   ]
  },
  {
   "cell_type": "code",
   "execution_count": 48,
   "id": "08e1b96b",
   "metadata": {},
   "outputs": [],
   "source": [
    "from abc import ABC, abstractmethod"
   ]
  },
  {
   "cell_type": "code",
   "execution_count": 49,
   "id": "1a52b234",
   "metadata": {},
   "outputs": [],
   "source": [
    "class Component(ABC):\n",
    "    @abstractmethod\n",
    "    def salary(self):\n",
    "        pass\n",
    "    @abstractmethod\n",
    "    def age(self):\n",
    "        pass\n",
    "    "
   ]
  },
  {
   "cell_type": "code",
   "execution_count": 50,
   "id": "3305cbed",
   "metadata": {},
   "outputs": [],
   "source": [
    "class employee(Component):\n",
    "    def __init__(self, name, salary, age):\n",
    "        self.__name = name\n",
    "        self.__salary = salary\n",
    "        self.__age = age\n",
    "        \n",
    "    def salary(self):\n",
    "        return self.__salary\n",
    "    \n",
    "    def age(self):\n",
    "        return self.__age"
   ]
  },
  {
   "cell_type": "code",
   "execution_count": 51,
   "id": "849a1453",
   "metadata": {},
   "outputs": [],
   "source": [
    "class manager(Component):\n",
    "    def __init__(self, name, employees):\n",
    "        self.__name = name\n",
    "        self.__employees = employees\n",
    "    \n",
    "    def salary(self):\n",
    "        salary = 0\n",
    "        for employee in self.__employees:\n",
    "            salary += employee.salary()\n",
    "        return salary\n",
    "    \n",
    "    def age(self):\n",
    "        ageList = []\n",
    "        for employee in self.__employees:\n",
    "            ageList.append(employee.age())\n",
    "        return ageList\n",
    "    "
   ]
  },
  {
   "cell_type": "markdown",
   "id": "6920a195",
   "metadata": {},
   "source": [
    "#### Application: Sample employee record system in an office"
   ]
  },
  {
   "cell_type": "code",
   "execution_count": 52,
   "id": "6efa8235",
   "metadata": {},
   "outputs": [],
   "source": [
    "ram = employee(\"Ram\", 200, 20)\n",
    "shyam = employee(\"Shyam\", 300, 30)\n",
    "hari = employee(\"Hari\", 150, 26)\n",
    "suman = manager(\"suman\",[ram, shyam, hari])"
   ]
  },
  {
   "cell_type": "markdown",
   "id": "6a2016ac",
   "metadata": {},
   "source": [
    "#### Application: Extra use case"
   ]
  },
  {
   "cell_type": "code",
   "execution_count": 53,
   "id": "a5d951e0",
   "metadata": {},
   "outputs": [
    {
     "name": "stdout",
     "output_type": "stream",
     "text": [
      "2\n"
     ]
    }
   ],
   "source": [
    "count = 0\n",
    "for i in suman.age():\n",
    "    if i >25:\n",
    "        count += 1\n",
    "print(count)"
   ]
  },
  {
   "cell_type": "markdown",
   "id": "f5e08b63",
   "metadata": {},
   "source": [
    "### 2. Singleton Design Pattern"
   ]
  },
  {
   "cell_type": "code",
   "execution_count": 54,
   "id": "682595da",
   "metadata": {},
   "outputs": [],
   "source": [
    "class Singleton1:\n",
    "    __instance = None\n",
    "    \n",
    "    @staticmethod\n",
    "    def getInstance():\n",
    "        if Singleton1.__instance == None:\n",
    "            Singleton1()\n",
    "        return Singleton1.__instance\n",
    "    \n",
    "    def __init__(self):\n",
    "        \n",
    "        if Singleton1.__instance != None:\n",
    "            raise Exception(\"Singleton object is already created\")\n",
    "        else:\n",
    "            Singleton1.__instance = self\n",
    "    \n",
    "    def DBconnection(self):\n",
    "        print(\"You can connect your DB here\")"
   ]
  },
  {
   "cell_type": "code",
   "execution_count": 55,
   "id": "5ef7c22a",
   "metadata": {},
   "outputs": [],
   "source": [
    "s1 = Singleton1()"
   ]
  },
  {
   "cell_type": "code",
   "execution_count": 56,
   "id": "47a3524b",
   "metadata": {},
   "outputs": [
    {
     "name": "stdout",
     "output_type": "stream",
     "text": [
      "You can connect your DB here\n"
     ]
    }
   ],
   "source": [
    "s1.DBconnection()"
   ]
  },
  {
   "cell_type": "code",
   "execution_count": 57,
   "id": "699d5bd8",
   "metadata": {},
   "outputs": [
    {
     "name": "stdout",
     "output_type": "stream",
     "text": [
      "<__main__.Singleton1 object at 0x00000234FBF56CA0>\n",
      "<__main__.Singleton1 object at 0x00000234FBF56CA0>\n",
      "You can connect your DB here\n"
     ]
    }
   ],
   "source": [
    "s2 = Singleton1.getInstance()\n",
    "print(s1)\n",
    "print(s2)\n",
    "s2.DBconnection()"
   ]
  },
  {
   "cell_type": "code",
   "execution_count": 58,
   "id": "ad9bcb8d",
   "metadata": {},
   "outputs": [],
   "source": [
    "class Singleton2:\n",
    "    __instance = None\n",
    "    \n",
    "    def __new__(cls):\n",
    "        if (cls.__instance is None):\n",
    "            cls.__instance = super(Singleton2, cls).__new__(cls)\n",
    "        return cls.__instance\n",
    "\n",
    "def DBconnection(x):\n",
    "    s5 = Singleton2()\n",
    "    s5.message = x\n",
    "    return s5.message"
   ]
  },
  {
   "cell_type": "code",
   "execution_count": 59,
   "id": "4b9e7c7a",
   "metadata": {},
   "outputs": [
    {
     "name": "stdout",
     "output_type": "stream",
     "text": [
      "<__main__.Singleton2 object at 0x00000234FBD04E50>\n",
      "<__main__.Singleton2 object at 0x00000234FBD04E50>\n"
     ]
    }
   ],
   "source": [
    "s3 = Singleton2()\n",
    "print(s3)\n",
    "s4 = Singleton2()\n",
    "print(s4)"
   ]
  },
  {
   "cell_type": "markdown",
   "id": "dfa576af",
   "metadata": {},
   "source": [
    "#### Application: Database connection management"
   ]
  },
  {
   "cell_type": "code",
   "execution_count": 60,
   "id": "3a615b52",
   "metadata": {},
   "outputs": [],
   "source": [
    "x = DBconnection(\"You can send you DB parameters here\")"
   ]
  },
  {
   "cell_type": "code",
   "execution_count": 61,
   "id": "32c19dc4",
   "metadata": {},
   "outputs": [],
   "source": [
    "y = DBconnection(\"You can attempting again to connect to DB\")"
   ]
  },
  {
   "cell_type": "code",
   "execution_count": 62,
   "id": "08a49bf5",
   "metadata": {},
   "outputs": [
    {
     "data": {
      "text/plain": [
       "False"
      ]
     },
     "execution_count": 62,
     "metadata": {},
     "output_type": "execute_result"
    }
   ],
   "source": [
    "x==y"
   ]
  },
  {
   "cell_type": "code",
   "execution_count": 63,
   "id": "8678830d",
   "metadata": {},
   "outputs": [
    {
     "name": "stdout",
     "output_type": "stream",
     "text": [
      "2426596839120\n",
      "2426596963600\n"
     ]
    }
   ],
   "source": [
    "print(id(x))\n",
    "print(id(y))"
   ]
  },
  {
   "cell_type": "markdown",
   "id": "179802fc",
   "metadata": {},
   "source": [
    "### 3. Chain of responsibility pattern"
   ]
  },
  {
   "cell_type": "code",
   "execution_count": 64,
   "id": "23d0eb24",
   "metadata": {},
   "outputs": [],
   "source": [
    "from abc import ABC, abstractmethod\n",
    "\n",
    "class orderProcessing(ABC):\n",
    "    def __init__(self, next_logger):\n",
    "        self.__next_logger= next_logger\n",
    "        self.inventory = 100\n",
    "        self.unitprice = 10\n",
    "        \n",
    "    \n",
    "    def make_entry(self, quantity):\n",
    "        pass\n",
    "    \n",
    "    def record(self, quantity):\n",
    "        \n",
    "        self.make_entry(quantity)\n",
    "        \n",
    "        if (self.__next_logger is None):\n",
    "            return\n",
    "        else:\n",
    "            self.__next_logger.record(quantity)       "
   ]
  },
  {
   "cell_type": "markdown",
   "id": "3c2f0359",
   "metadata": {},
   "source": [
    "#### Application: Sample Order Processing System"
   ]
  },
  {
   "cell_type": "code",
   "execution_count": 65,
   "id": "d62de36d",
   "metadata": {},
   "outputs": [
    {
     "name": "stdout",
     "output_type": "stream",
     "text": [
      "Please enter your quatity: 10\n",
      "The remaining invetory is 90\n",
      "Total price is 100\n"
     ]
    }
   ],
   "source": [
    "\"\"\"\n",
    "This can be used to calculate the total price of the order and post to the accounting system\n",
    "\"\"\"\n",
    "class totalPrice(orderProcessing):\n",
    "    \n",
    "    def make_entry(self, quantity):\n",
    "        self.totalPrice = quantity * self.unitprice\n",
    "        print(f\"Total price is {self.totalPrice}\")\n",
    "        \n",
    "\"\"\"\n",
    "This can be used to manage inventory after successful order acceptance\n",
    "\"\"\"    \n",
    "class totalInventory(orderProcessing):\n",
    "    \n",
    "    def make_entry(self, quantity):\n",
    "        if self.inventory < quantity:\n",
    "            print(\"We don't have requested quantity in stock, please try with less quantity\")\n",
    "        else:            \n",
    "            self.inventory = self.inventory - quantity\n",
    "            print(f\"The remaining invetory is {self.inventory}\")\n",
    "        \n",
    "price = totalPrice(None)\n",
    "inventory = totalInventory(price)\n",
    "\n",
    "\n",
    "qyt = int(input(\"Please enter your quatity: \"))\n",
    "\n",
    "inventory.record(qyt)\n"
   ]
  },
  {
   "cell_type": "markdown",
   "id": "5b689ea4",
   "metadata": {},
   "source": [
    "### 4. Factory Design Pattern"
   ]
  },
  {
   "cell_type": "code",
   "execution_count": 26,
   "id": "910e376d",
   "metadata": {},
   "outputs": [],
   "source": [
    "from abc import ABC, abstractmethod\n",
    "\n",
    "'''\n",
    "Base class for constructing any house. This base class contains the common methods for all the subclasses\n",
    "(house types in this case)\n",
    "'''\n",
    "\n",
    "class constructHome(ABC):\n",
    "    \n",
    "    @abstractmethod\n",
    "    def roof_design(self):\n",
    "        pass\n",
    "    \n",
    "    @abstractmethod\n",
    "    def design_material(self):\n",
    "        pass\n",
    "    \n",
    "    @abstractmethod\n",
    "    def floor_number(self):\n",
    "        pass\n",
    "\n",
    "'''\n",
    "This is the base class for designing the roof of any house. It contains the methods for deciding the properties of\n",
    "roof\n",
    "'''    \n",
    "class roof(ABC):\n",
    "    @abstractmethod\n",
    "    def roofAngle(self):\n",
    "        pass\n",
    "    \n",
    "    @abstractmethod\n",
    "    def heatingSystem(self):\n",
    "        pass\n",
    "\n",
    "'''\n",
    "This is the base class for material used in a house. It contains the methods for deciding the properties of\n",
    "material\n",
    "'''    \n",
    "    \n",
    "class material(ABC):\n",
    "    @abstractmethod\n",
    "    def wallMaterial(self):\n",
    "        pass\n",
    "    \n",
    "    @abstractmethod\n",
    "    def floorMaterial(self):\n",
    "        pass\n",
    "\n",
    "'''\n",
    "This is the base class for floors in a house. It contains the methods for deciding the properties of\n",
    "floor\n",
    "'''\n",
    "    \n",
    "class floor(ABC):\n",
    "    @abstractmethod\n",
    "    def floorNumber(self):\n",
    "        pass\n",
    "    @abstractmethod\n",
    "    def floorBalcony(self):\n",
    "        pass\n",
    "\n",
    "'''\n",
    "Normal roof type class and its properties\n",
    "'''    \n",
    "class normalRoofType(roof):    \n",
    "    def roofAngle(self):\n",
    "        print (\"Flat roof type\")\n",
    "        \n",
    "    def heatingSystem(self):\n",
    "        print (\"Heating/Cooling system present on roof\")\n",
    "        \n",
    "    def __init__(self):\n",
    "        self.roofAngle()\n",
    "        self.heatingSystem()\n",
    "'''\n",
    "Angular roof type class and its properties\n",
    "''' \n",
    "class angularRoofType(roof):\n",
    "    def roofAngle(self):\n",
    "        print (\"Slanting roof type\")\n",
    "        \n",
    "    def heatingSystem(self):\n",
    "        print (\"Heating/Cooling system is not present on roof\")\n",
    "        \n",
    "    def __init__(self):\n",
    "        self.roofAngle()\n",
    "        self.heatingSystem()\n",
    "\n",
    "'''\n",
    "Strong material class and its properties\n",
    "'''         \n",
    "class strongMaterial(material):\n",
    "    def wallMaterial(self):\n",
    "        print (\"The wall is made of concrete wood and concrete\")\n",
    "\n",
    "    def floorMaterial(self):\n",
    "        print (\"The floor is made of tiles and wood\")\n",
    "        \n",
    "    def __init__(self):\n",
    "        self.wallMaterial()\n",
    "        self.floorMaterial()\n",
    "\n",
    "'''\n",
    "Warm material class and its properties\n",
    "'''\n",
    "class warmMaterial(material):\n",
    "    def wallMaterial(self):\n",
    "        print (\"The wall is made of wood only\")\n",
    "\n",
    "    def floorMaterial(self):\n",
    "        print (\"The floor is made of wood only\")\n",
    "        \n",
    "    def __init__(self):\n",
    "        self.wallMaterial()\n",
    "        self.floorMaterial()\n",
    "'''\n",
    "Limited class and its properties\n",
    "'''        \n",
    "class limitedFloors(floor):\n",
    "    def floorNumber(self):\n",
    "        print (\"The number of floor is maximum 2\")\n",
    "\n",
    "    def floorBalcony(self):\n",
    "        print(\"The floor doesn't have balcony\")\n",
    "        \n",
    "    def __init__(self):\n",
    "        self.floorNumber()\n",
    "        self.floorBalcony()\n",
    "'''\n",
    "Medium enhanced floor class and its properties\n",
    "'''         \n",
    "class mediumEnhanceFloors(floor):\n",
    "    def floorNumber(self):\n",
    "        print (\"The number of floor is maximum is between 2 and 5 \")\n",
    "\n",
    "    def floorBalcony(self):\n",
    "        print (\"Each floor has a balcony\")\n",
    "        \n",
    "    def __init__(self):\n",
    "        self.floorNumber()\n",
    "        self.floorBalcony()\n",
    "'''\n",
    "Higly enhanced floor class and its properties\n",
    "'''         \n",
    "class higlyEnhancedFloors(floor):\n",
    "    def floorNumber(self):\n",
    "        print (\"The number of floor is more than 20\")\n",
    "\n",
    "    def floorBalcony(self):\n",
    "        print (\"Each floor has a premium balcony\")\n",
    "        \n",
    "    def __init__(self):\n",
    "        self.floorNumber()\n",
    "        self.floorBalcony()\n",
    "        \n",
    "'''\n",
    "Different types of house\n",
    "'''    \n",
    "class condo(constructHome):\n",
    "    \n",
    "    def roof_design(self):\n",
    "        return normalRoofType()\n",
    "    \n",
    "    def design_material(self):\n",
    "        return strongMaterial()\n",
    "    \n",
    "    def floor_number(self):\n",
    "        return higlyEnhancedFloors()\n",
    "    \n",
    "class condoTownHouse(constructHome):\n",
    "    \n",
    "    def roof_design(self):\n",
    "        return angularRoofType()\n",
    "    \n",
    "    def design_material(self):\n",
    "        return strongMaterial()\n",
    "    \n",
    "    def floor_number(self):\n",
    "        return mediumEnhanceFloors()\n",
    "    \n",
    "\n",
    "\n",
    "class independentHouse(constructHome):\n",
    "    \n",
    "    def roof_design(self):\n",
    "        return angularRoofType()\n",
    "    \n",
    "    def design_material(self):\n",
    "        return warmMaterial()\n",
    "    \n",
    "    def floor_number(self):\n",
    "        return limitedFloors()  "
   ]
  },
  {
   "cell_type": "code",
   "execution_count": 27,
   "id": "60326596",
   "metadata": {},
   "outputs": [],
   "source": [
    "class client_code: \n",
    "     \n",
    "    def house_details(self):\n",
    "        print(\"\\n Thank you for providing your desire house. The details of this house are as below: \\n\")\n",
    "        \n",
    "        house = {\n",
    "        \"condo\": condo(),\n",
    "        \"condoTownHouse\": condoTownHouse(),\n",
    "        \"independentHouse\":independentHouse()\n",
    "        }\n",
    "        \n",
    "        customer_choice = house[self.houseType]\n",
    "        print(\"\\n ~~~~ Roof details: ~~~~\")\n",
    "        customer_choice.roof_design()\n",
    "        print(\"\\n ~~~~ Design Materials ~~~~\")\n",
    "        customer_choice.design_material()\n",
    "        print(\"\\n ~~~~ Floor Type ~~~~\")\n",
    "        customer_choice.floor_number()\n",
    "        \n",
    "    def __init__(self):\n",
    "        self.houseType = str(input(\"Enter the type of house you want to build\"))\n",
    "        self.house_details()       "
   ]
  },
  {
   "cell_type": "code",
   "execution_count": 28,
   "id": "18b399f0",
   "metadata": {},
   "outputs": [
    {
     "name": "stdout",
     "output_type": "stream",
     "text": [
      "Enter the type of house you want to buildcondo\n",
      "\n",
      " Thank you for providing your desire house. The details of this house are as below:\n",
      "\n",
      " ~~~~ Roof details: ~~~~\n",
      "Flat roof type\n",
      "Heating/Cooling system present on roof\n",
      "\n",
      " ~~~~ Design Materials ~~~~\n",
      "The wall is made of concrete wood and concrete\n",
      "The floor is made of tiles and wood\n",
      "\n",
      " ~~~~ Floor Type ~~~~\n",
      "The number of floor is maximum more than\n",
      "Each floor has a premium balcony\n"
     ]
    }
   ],
   "source": [
    "customer = client_code()"
   ]
  },
  {
   "cell_type": "markdown",
   "id": "854b0d52",
   "metadata": {},
   "source": [
    "### 5. Template Design Pattern"
   ]
  },
  {
   "cell_type": "code",
   "execution_count": 34,
   "id": "4e63998f",
   "metadata": {},
   "outputs": [],
   "source": [
    "from abc import ABC, abstractmethod\n",
    "\n",
    "class allSteps(ABC):\n",
    "    def test_method(self):\n",
    "        print(\"This is test method\")\n",
    "        \n",
    "    def template_method(self):\n",
    "        self.step1()\n",
    "        self.step2()\n",
    "        self.step3()\n",
    "        \n",
    "    def step1(self):\n",
    "        pass\n",
    "    \n",
    "    def step2(self):\n",
    "        pass\n",
    "    \n",
    "    @abstractmethod\n",
    "    def step3(self):\n",
    "        pass\n",
    "    \n",
    "class app1(allSteps):\n",
    "    def step1(self):\n",
    "        print(\"This is step1 for app1\")\n",
    "        \n",
    "    def step3(self):\n",
    "        print(\"This is step3 for app1\")\n",
    "        \n",
    "class app2(allSteps):\n",
    "    def step2(self):\n",
    "        print(\"This is step2 for app1\")\n",
    "        \n",
    "    def step3(self):\n",
    "        print(\"This is step3 for app1\")"
   ]
  },
  {
   "cell_type": "code",
   "execution_count": 35,
   "id": "e79498f5",
   "metadata": {},
   "outputs": [
    {
     "name": "stdout",
     "output_type": "stream",
     "text": [
      "This is step1 for app1\n",
      "This is step3 for app1\n",
      "\n",
      " ##### \n",
      "\n",
      "This is step2 for app1\n",
      "This is step3 for app1\n"
     ]
    }
   ],
   "source": [
    "app1 = app1()\n",
    "app1.template_method()\n",
    "\n",
    "print(\"\\n ##### \\n\")\n",
    "\n",
    "app2 = app2()\n",
    "app2.template_method()"
   ]
  },
  {
   "cell_type": "markdown",
   "id": "282f4881",
   "metadata": {},
   "source": [
    "### 6. Prototype Design Pattern"
   ]
  },
  {
   "cell_type": "code",
   "execution_count": 37,
   "id": "00259ecd",
   "metadata": {},
   "outputs": [],
   "source": [
    "from abc import ABC, abstractmethod\n",
    "\n",
    "class sicrPrototype(ABC):\n",
    "    def __init__(self):\n",
    "        self.accounts = None\n",
    "        self.current = None\n",
    "        self.current = None\n",
    "        self.origination = None\n",
    "        self. hazardRate = None\n",
    "        \n",
    "    @abstractmethod\n",
    "    def reproduce(self):\n",
    "        pass"
   ]
  },
  {
   "cell_type": "code",
   "execution_count": 41,
   "id": "7b704b5d",
   "metadata": {},
   "outputs": [],
   "source": [
    "import copy\n",
    "\n",
    "class sicrCalculator(sicrPrototype):\n",
    "    def __init__(self, accounts, current, origination, hazardRate):\n",
    "        self.accounts = accounts\n",
    "        self.current = current\n",
    "        self.origination = origination\n",
    "        self. hazardRate = hazardRate\n",
    "        \n",
    "    def reproduce(self):\n",
    "        return copy.deepcopy(self)\n",
    "    \n",
    "    def addition(self):\n",
    "        b = self.accounts + self.current + self.origination + self.hazardRate\n",
    "        print(b)"
   ]
  },
  {
   "cell_type": "code",
   "execution_count": 42,
   "id": "7beed878",
   "metadata": {},
   "outputs": [
    {
     "name": "stdout",
     "output_type": "stream",
     "text": [
      "1060\n"
     ]
    }
   ],
   "source": [
    "prototype = sicrCalculator(1000, 10, 20, 30)\n",
    "b = prototype.reproduce()\n",
    "b.addition()"
   ]
  },
  {
   "cell_type": "code",
   "execution_count": 44,
   "id": "1899eee6",
   "metadata": {},
   "outputs": [
    {
     "name": "stdout",
     "output_type": "stream",
     "text": [
      "1060\n"
     ]
    }
   ],
   "source": [
    "d = prototype.reproduce()\n",
    "d.addition()"
   ]
  },
  {
   "cell_type": "markdown",
   "id": "e8b1fd59",
   "metadata": {},
   "source": [
    "#### 6.1 Pratical application of prototype design pattern"
   ]
  },
  {
   "cell_type": "code",
   "execution_count": 36,
   "id": "9ba4daee",
   "metadata": {},
   "outputs": [],
   "source": [
    "import pandas as pd\n",
    "import numpy as np\n",
    "import random\n",
    "import string\n",
    "from abc import ABC, abstractmethod\n",
    "\n",
    "class DBConnectionPrototype(ABC):\n",
    "    def __init__(self):\n",
    "        self.dataFetch = pd.DataFrame(np.random.randint(1,2500,size=(1000000,3)), columns=['sales_USA','sales_Canada','sales_India'])\n",
    "        self.invoice = []\n",
    "        print(\"The parent prototype is called\")\n",
    "        \n",
    "        for i in range(1000000):\n",
    "            self.invoice.append(''.join(random.choices(string.ascii_uppercase + string.digits, k=10)))\n",
    "        \n",
    "        self.dataFetch['invoice_number'] = self.invoice\n",
    "        \n",
    "    @abstractmethod\n",
    "    def reproduce(self):\n",
    "        pass "
   ]
  },
  {
   "cell_type": "code",
   "execution_count": 37,
   "id": "7749d545",
   "metadata": {},
   "outputs": [],
   "source": [
    "import copy\n",
    "\n",
    "class oneTimeConnection(DBConnectionPrototype):\n",
    "    def __init__(self):\n",
    "        super().__init__()\n",
    "        print(self.dataFetch.head())\n",
    "        \n",
    "    def reproduce(self):\n",
    "        return copy.deepcopy(self)\n",
    "    \n",
    "    def sale_value(self, x):\n",
    "        totalSales = self.dataFetch[x].sum()\n",
    "        print(f\"The total sales of {x} is {totalSales}\")"
   ]
  },
  {
   "cell_type": "code",
   "execution_count": 38,
   "id": "80ef5d30",
   "metadata": {},
   "outputs": [
    {
     "name": "stdout",
     "output_type": "stream",
     "text": [
      "The parent prototype is called\n",
      "   sales_USA  sales_Canada  sales_India invoice_number\n",
      "0       1146          1140          446     6NDYZBD0K4\n",
      "1        871          2110         2272     XVSKPL9HI5\n",
      "2       1294          2458         2169     Z213M1VN2T\n",
      "3        846          2474         1425     AGCQ6XTL6C\n",
      "4        947          2285         1254     0E343SG1LE\n"
     ]
    }
   ],
   "source": [
    "b = oneTimeConnection()"
   ]
  },
  {
   "cell_type": "code",
   "execution_count": 39,
   "id": "e44cc5ab",
   "metadata": {},
   "outputs": [
    {
     "name": "stdout",
     "output_type": "stream",
     "text": [
      "The total sales of sales_USA is 1249923376\n"
     ]
    }
   ],
   "source": [
    "b.sale_value(\"sales_USA\")"
   ]
  },
  {
   "cell_type": "code",
   "execution_count": 40,
   "id": "38f117d0",
   "metadata": {},
   "outputs": [],
   "source": [
    "c = b.reproduce()"
   ]
  },
  {
   "cell_type": "code",
   "execution_count": 41,
   "id": "4702b790",
   "metadata": {},
   "outputs": [
    {
     "name": "stdout",
     "output_type": "stream",
     "text": [
      "The total sales of sales_USA is 1249923376\n"
     ]
    }
   ],
   "source": [
    "c.sale_value('sales_USA')"
   ]
  },
  {
   "cell_type": "code",
   "execution_count": 42,
   "id": "ccbd624a",
   "metadata": {},
   "outputs": [
    {
     "data": {
      "text/html": [
       "<div>\n",
       "<style scoped>\n",
       "    .dataframe tbody tr th:only-of-type {\n",
       "        vertical-align: middle;\n",
       "    }\n",
       "\n",
       "    .dataframe tbody tr th {\n",
       "        vertical-align: top;\n",
       "    }\n",
       "\n",
       "    .dataframe thead th {\n",
       "        text-align: right;\n",
       "    }\n",
       "</style>\n",
       "<table border=\"1\" class=\"dataframe\">\n",
       "  <thead>\n",
       "    <tr style=\"text-align: right;\">\n",
       "      <th></th>\n",
       "      <th>sales_USA</th>\n",
       "      <th>sales_Canada</th>\n",
       "      <th>sales_India</th>\n",
       "      <th>invoice_number</th>\n",
       "    </tr>\n",
       "  </thead>\n",
       "  <tbody>\n",
       "    <tr>\n",
       "      <th>0</th>\n",
       "      <td>1146</td>\n",
       "      <td>1140</td>\n",
       "      <td>446</td>\n",
       "      <td>6NDYZBD0K4</td>\n",
       "    </tr>\n",
       "    <tr>\n",
       "      <th>1</th>\n",
       "      <td>871</td>\n",
       "      <td>2110</td>\n",
       "      <td>2272</td>\n",
       "      <td>XVSKPL9HI5</td>\n",
       "    </tr>\n",
       "    <tr>\n",
       "      <th>2</th>\n",
       "      <td>1294</td>\n",
       "      <td>2458</td>\n",
       "      <td>2169</td>\n",
       "      <td>Z213M1VN2T</td>\n",
       "    </tr>\n",
       "    <tr>\n",
       "      <th>3</th>\n",
       "      <td>846</td>\n",
       "      <td>2474</td>\n",
       "      <td>1425</td>\n",
       "      <td>AGCQ6XTL6C</td>\n",
       "    </tr>\n",
       "    <tr>\n",
       "      <th>4</th>\n",
       "      <td>947</td>\n",
       "      <td>2285</td>\n",
       "      <td>1254</td>\n",
       "      <td>0E343SG1LE</td>\n",
       "    </tr>\n",
       "    <tr>\n",
       "      <th>...</th>\n",
       "      <td>...</td>\n",
       "      <td>...</td>\n",
       "      <td>...</td>\n",
       "      <td>...</td>\n",
       "    </tr>\n",
       "    <tr>\n",
       "      <th>999995</th>\n",
       "      <td>653</td>\n",
       "      <td>1415</td>\n",
       "      <td>1658</td>\n",
       "      <td>CXIR09B6O9</td>\n",
       "    </tr>\n",
       "    <tr>\n",
       "      <th>999996</th>\n",
       "      <td>265</td>\n",
       "      <td>2276</td>\n",
       "      <td>2479</td>\n",
       "      <td>HT3MM6KBVE</td>\n",
       "    </tr>\n",
       "    <tr>\n",
       "      <th>999997</th>\n",
       "      <td>1244</td>\n",
       "      <td>708</td>\n",
       "      <td>850</td>\n",
       "      <td>TO0U6UMCK6</td>\n",
       "    </tr>\n",
       "    <tr>\n",
       "      <th>999998</th>\n",
       "      <td>236</td>\n",
       "      <td>1301</td>\n",
       "      <td>134</td>\n",
       "      <td>P1F24BRP4L</td>\n",
       "    </tr>\n",
       "    <tr>\n",
       "      <th>999999</th>\n",
       "      <td>1335</td>\n",
       "      <td>754</td>\n",
       "      <td>2291</td>\n",
       "      <td>BWRVKK82VJ</td>\n",
       "    </tr>\n",
       "  </tbody>\n",
       "</table>\n",
       "<p>1000000 rows × 4 columns</p>\n",
       "</div>"
      ],
      "text/plain": [
       "        sales_USA  sales_Canada  sales_India invoice_number\n",
       "0            1146          1140          446     6NDYZBD0K4\n",
       "1             871          2110         2272     XVSKPL9HI5\n",
       "2            1294          2458         2169     Z213M1VN2T\n",
       "3             846          2474         1425     AGCQ6XTL6C\n",
       "4             947          2285         1254     0E343SG1LE\n",
       "...           ...           ...          ...            ...\n",
       "999995        653          1415         1658     CXIR09B6O9\n",
       "999996        265          2276         2479     HT3MM6KBVE\n",
       "999997       1244           708          850     TO0U6UMCK6\n",
       "999998        236          1301          134     P1F24BRP4L\n",
       "999999       1335           754         2291     BWRVKK82VJ\n",
       "\n",
       "[1000000 rows x 4 columns]"
      ]
     },
     "execution_count": 42,
     "metadata": {},
     "output_type": "execute_result"
    }
   ],
   "source": [
    "c.dataFetch"
   ]
  },
  {
   "cell_type": "markdown",
   "id": "85b196d2",
   "metadata": {},
   "source": [
    "##### Conclusion: Data with millions of rows is created during the first object instantiation but not while  subsequent prototype class object were instantiated"
   ]
  },
  {
   "cell_type": "markdown",
   "id": "8fbe7206",
   "metadata": {},
   "source": [
    "### 7. Facade Design Pattern"
   ]
  },
  {
   "cell_type": "code",
   "execution_count": 103,
   "id": "3386ea7e",
   "metadata": {},
   "outputs": [],
   "source": [
    "import pandas as pd\n",
    "\n",
    "# For similicity lets assume that these dataFrames are database table and there is a separate mechanism to make DBConnection.\n",
    "# In this example they are declared as global variable\n",
    "\n",
    "global POTable \n",
    "POTable = pd.DataFrame(columns=['PONumber','Product_Name','PO_Quantity'])\n",
    "\n",
    "\n",
    "class POCreation:\n",
    "    def __init__(self, PONumber, Product_Name, PO_Quantity):\n",
    "        self.PONumber = PONumber\n",
    "        self.Product_Name = Product_Name\n",
    "        self.PO_Quantity = PO_Quantity\n",
    "    \n",
    "    def updatePOTable(self):\n",
    "        poData = {'PONumber': [self.PONumber],'Product_Name':[self.Product_Name],'PO_Quantity':[self.PO_Quantity]}\n",
    "        # Update POTable in the database\n",
    "\n",
    "        df1 = pd.DataFrame(poData)\n",
    "        global POTable\n",
    "        POTable = pd.concat([POTable, df1], ignore_index = True)\n",
    "        print(POTable.head())\n",
    "        print(\"PO is created\")\n",
    "        \n",
    "    def fetchPOTable(self, x):\n",
    "        global POTable\n",
    "        b = POTable.query('PONumber == @x')\n",
    "        print(b)\n",
    "        \n",
    "        \n",
    "    "
   ]
  },
  {
   "cell_type": "code",
   "execution_count": 104,
   "id": "7c983ffc",
   "metadata": {},
   "outputs": [],
   "source": [
    "newPO = POCreation(101, \"Iron\", 5)"
   ]
  },
  {
   "cell_type": "code",
   "execution_count": 105,
   "id": "0e3e94d6",
   "metadata": {},
   "outputs": [
    {
     "name": "stdout",
     "output_type": "stream",
     "text": [
      "  PONumber Product_Name PO_Quantity\n",
      "0      101         Iron           5\n",
      "PO is created\n"
     ]
    }
   ],
   "source": [
    "newPO.updatePOTable()"
   ]
  },
  {
   "cell_type": "code",
   "execution_count": 106,
   "id": "1afef6bc",
   "metadata": {},
   "outputs": [
    {
     "name": "stdout",
     "output_type": "stream",
     "text": [
      "  PONumber Product_Name PO_Quantity\n",
      "0      101         Iron           5\n"
     ]
    }
   ],
   "source": [
    "newPO.fetchPOTable(101)"
   ]
  },
  {
   "cell_type": "code",
   "execution_count": null,
   "id": "1a97ed83",
   "metadata": {},
   "outputs": [],
   "source": []
  }
 ],
 "metadata": {
  "kernelspec": {
   "display_name": "Python 3 (ipykernel)",
   "language": "python",
   "name": "python3"
  },
  "language_info": {
   "codemirror_mode": {
    "name": "ipython",
    "version": 3
   },
   "file_extension": ".py",
   "mimetype": "text/x-python",
   "name": "python",
   "nbconvert_exporter": "python",
   "pygments_lexer": "ipython3",
   "version": "3.9.12"
  }
 },
 "nbformat": 4,
 "nbformat_minor": 5
}
